{
  "nbformat": 4,
  "nbformat_minor": 0,
  "metadata": {
    "colab": {
      "name": "Demucs-Nyaom.ipynb",
      "provenance": [],
      "collapsed_sections": []
    },
    "kernelspec": {
      "name": "python3",
      "display_name": "Python 3"
    },
    "language_info": {
      "name": "python"
    }
  },
  "cells": [
    {
      "cell_type": "code",
      "metadata": {
        "id": "d4RDV4hJGXoF"
      },
      "source": [
        "#SETUP 1 - GRANT ACCESS TO G-DRIVE.\n",
        "from google.colab import drive\n",
        "drive.mount('/content/drive')"
      ],
      "execution_count": null,
      "outputs": []
    },
    {
      "cell_type": "code",
      "metadata": {
        "id": "W38e3Ih5GnrO"
      },
      "source": [
        "#SETUP 2 - install required packages \n",
        "\n",
        "!pip install torch\n",
        "!pip install scipy\n",
        "!pip install tqdm\n",
        "!pip install musdb\n",
        "!pip install museval\n",
        "!pip install requests\n",
        "!pip install treetable"
      ],
      "execution_count": null,
      "outputs": []
    },
    {
      "cell_type": "code",
      "metadata": {
        "id": "a6WO28rHG0s9"
      },
      "source": [
        "#SETUP 3 - install minconda\n",
        "\n",
        "%%bash\n",
        "MINICONDA_INSTALLER_SCRIPT=Miniconda3-4.5.4-Linux-x86_64.sh\n",
        "MINICONDA_PREFIX=/usr/local\n",
        "wget https://repo.continuum.io/miniconda/$MINICONDA_INSTALLER_SCRIPT\n",
        "chmod +x $MINICONDA_INSTALLER_SCRIPT\n",
        "./$MINICONDA_INSTALLER_SCRIPT -b -f -p $MINICONDA_PREFIX"
      ],
      "execution_count": null,
      "outputs": []
    },
    {
      "cell_type": "code",
      "metadata": {
        "id": "WamznwBmG4Wj"
      },
      "source": [
        "#SETUP 4 - get demucs from GitHub\n",
        "\n",
        "%cd \"/content\"\n",
        "!git clone https://github.com/facebookresearch/demucs \n",
        "%cd demucs\n",
        "!conda env update -f environment-cuda.yml # COLAB has gpu so we gonna use it :)\n",
        "!source activate demucs \n"
      ],
      "execution_count": null,
      "outputs": []
    },
    {
      "cell_type": "code",
      "metadata": {
        "id": "Q9hvusP1GgId"
      },
      "source": [
        "#RUN 1 - Copy source file to environment \n",
        "#!cp PATH_TO_FILE_IN_YOUR_GOOGLE_DRIVE PATH_IN_COLAB -r \n",
        "!cp \"/content/drive/My Drive/demucsRes/\" \"/content/\" -r"
      ],
      "execution_count": null,
      "outputs": []
    },
    {
      "cell_type": "code",
      "metadata": {
        "id": "ljE_F-7IGwUJ"
      },
      "source": [
        "#RUN 2 - Separate audio from file.\n",
        "\n",
        "#!python3 -m demucs.separate --shifts=10 -n demucs_extra --dl \"PATH_TO_FILE_IN_COLAB\"\n",
        "!python3 -m demucs.separate --shifts=10 -n demucs_extra --dl \"/content/demucsRes/somaruyo.wav\""
      ],
      "execution_count": null,
      "outputs": []
    },
    {
      "cell_type": "code",
      "metadata": {
        "id": "T1V8Mcq9HmAi"
      },
      "source": [
        "#RUN 3 - Export tracks to G-Drive\n",
        "\n",
        "!cp \"/content/demucsRes/demucs/separated\" \"/content/drive/My Drive/separated\" -r\n",
        "print(\"done\")"
      ],
      "execution_count": null,
      "outputs": []
    }
  ]
}